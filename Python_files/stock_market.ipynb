{
  "nbformat": 4,
  "nbformat_minor": 0,
  "metadata": {
    "colab": {
      "provenance": []
    },
    "kernelspec": {
      "name": "python3",
      "display_name": "Python 3"
    },
    "language_info": {
      "name": "python"
    }
  },
  "cells": [
    {
      "cell_type": "code",
      "source": [
        "!pip install pandas==1.5.0"
      ],
      "metadata": {
        "colab": {
          "base_uri": "https://localhost:8080/"
        },
        "id": "Q44bwC-QVIHb",
        "outputId": "1e560ffa-c1d8-4d34-8c91-fb04ef8ca0a2"
      },
      "execution_count": null,
      "outputs": [
        {
          "output_type": "stream",
          "name": "stdout",
          "text": [
            "Collecting pandas==1.5.0\n",
            "  Downloading pandas-1.5.0-cp310-cp310-manylinux_2_17_x86_64.manylinux2014_x86_64.whl.metadata (11 kB)\n",
            "Requirement already satisfied: python-dateutil>=2.8.1 in /usr/local/lib/python3.10/dist-packages (from pandas==1.5.0) (2.8.2)\n",
            "Requirement already satisfied: pytz>=2020.1 in /usr/local/lib/python3.10/dist-packages (from pandas==1.5.0) (2024.1)\n",
            "Requirement already satisfied: numpy>=1.21.0 in /usr/local/lib/python3.10/dist-packages (from pandas==1.5.0) (1.26.4)\n",
            "Requirement already satisfied: six>=1.5 in /usr/local/lib/python3.10/dist-packages (from python-dateutil>=2.8.1->pandas==1.5.0) (1.16.0)\n",
            "Downloading pandas-1.5.0-cp310-cp310-manylinux_2_17_x86_64.manylinux2014_x86_64.whl (12.1 MB)\n",
            "\u001b[2K   \u001b[90m━━━━━━━━━━━━━━━━━━━━━━━━━━━━━━━━━━━━━━━━\u001b[0m \u001b[32m12.1/12.1 MB\u001b[0m \u001b[31m62.9 MB/s\u001b[0m eta \u001b[36m0:00:00\u001b[0m\n",
            "\u001b[?25hInstalling collected packages: pandas\n",
            "  Attempting uninstall: pandas\n",
            "    Found existing installation: pandas 2.1.4\n",
            "    Uninstalling pandas-2.1.4:\n",
            "      Successfully uninstalled pandas-2.1.4\n",
            "\u001b[31mERROR: pip's dependency resolver does not currently take into account all the packages that are installed. This behaviour is the source of the following dependency conflicts.\n",
            "cudf-cu12 24.4.1 requires pandas<2.2.2dev0,>=2.0, but you have pandas 1.5.0 which is incompatible.\n",
            "google-colab 1.0.0 requires pandas==2.1.4, but you have pandas 1.5.0 which is incompatible.\n",
            "xarray 2024.6.0 requires pandas>=2.0, but you have pandas 1.5.0 which is incompatible.\u001b[0m\u001b[31m\n",
            "\u001b[0mSuccessfully installed pandas-1.5.0\n"
          ]
        }
      ]
    },
    {
      "cell_type": "code",
      "execution_count": null,
      "metadata": {
        "colab": {
          "base_uri": "https://localhost:8080/"
        },
        "id": "qEJWP1_0290o",
        "outputId": "ff89d6cb-4f4b-4d09-9607-c1961717c72e"
      },
      "outputs": [
        {
          "output_type": "stream",
          "name": "stderr",
          "text": [
            "UsageError: unrecognized arguments: # inline comment\n"
          ]
        }
      ],
      "source": [
        "# imports datetime for picking beginning and end dates for the analysis\n",
        "import datetime\n",
        "# imports yahoo finance for getting historical stock prices\n",
        "import yfinance as yf\n",
        "# imports pandas for dataframe manipulation\n",
        "import pandas as pd\n",
        "# imports numpy for multidimensional array\n",
        "import numpy as np\n",
        "# for data visualization\n",
        "import matplotlib as mpl\n",
        "# for changing the plot size in the Jupyter Notebook output\n",
        "%matplotlib inline # inline comment\n",
        "# sets the plot size to 12x8\n",
        "mpl.rcParams['figure.figsize'] = (12,8)\n",
        "# for shorter lines with plotting\n",
        "from matplotlib import pyplot as plt\n",
        "# to hide warning messages\n",
        "import warnings\n",
        "\n",
        "warnings.filterwarnings('ignore')\n",
        "\n",
        "# sets the sample period as 5 years back from 09/12/2019\n",
        "end = datetime.datetime(2019, 9, 12)\n",
        "start = end - datetime.timedelta(days = 7*365)\n",
        "\n",
        "\n",
        "# gets the closing price fo Netflix for the past 5 years\n",
        "my_stock = yf.Ticker('NFLX') #ticker is a unique series of alphabet that represents a company name in short cut\n",
        "my_stock = pd.DataFrame(my_stock.history(start = start, end = end)['Close']) # extracting only the close column\n",
        "my_stock = my_stock.rename(str.lower, axis = 'columns')  # lower case\n",
        "\n",
        "# grabs the last 500 observations, which will be reduced to 50 for the purpose of fitting a\n",
        "# distribution for Monte Carlo simulation\n",
        "my_stock_resid_distr_fitting = my_stock[-500:]\n",
        "# creates a training subset missing the final 100 observations, which are being withheld\n",
        "my_stock_train = my_stock[~my_stock.isin(my_stock_resid_distr_fitting).all(1)]\n",
        "# grabs the final 50 observations for a test set\n",
        "my_stock_test = my_stock_resid_distr_fitting[-250:]\n",
        "# reduces the distribution fitting dataset to 50 observations\n",
        "my_stock_resid_distr_fitting = my_stock_resid_distr_fitting[~my_stock_resid_distr_fitting.isin(my_stock_test).all(1)]\n",
        "\n",
        "# plots the my_stock weekly closing price over the past 5 years\n",
        "plt.plot(my_stock.index, my_stock.close)\n",
        "plt.title('Daily Closing Price: Past 7 Years')\n",
        "plt.xlabel('Date')\n",
        "plt.ylabel('Closing Share Price')\n",
        "plt.show"
      ]
    },
    {
      "cell_type": "code",
      "source": [
        "# to suppress warnings\n",
        "warnings.filterwarnings('ignore')\n",
        "\n",
        "# sets the plot size to 12x8\n",
        "mpl.rcParams['figure.figsize'] = (12,8)\n",
        "\n",
        "# plots the ACF for the entire train period\n",
        "pd.plotting.autocorrelation_plot(my_stock_train.close)\n",
        "plt.show()"
      ],
      "metadata": {
        "id": "eYVOezbY3UzJ"
      },
      "execution_count": null,
      "outputs": []
    },
    {
      "cell_type": "code",
      "source": [
        "# to suppress warnings\n",
        "warnings.filterwarnings('ignore')\n",
        "\n",
        "# sets the plot size to 12x8\n",
        "mpl.rcParams['figure.figsize'] = (12,8)\n",
        "\n",
        "# plots the ACF for the differenced data over the entire train period\n",
        "#This calculates the first-order difference of the 'close' column, which is obtained by subtracting each value from its preceding value.\n",
        "# It helps to remove trends or seasonality from the data, making it more stationary.\n",
        "\n",
        "pd.plotting.autocorrelation_plot(my_stock_train.close.diff().dropna())\n"
      ],
      "metadata": {
        "id": "Jy2lhBFr3aQv"
      },
      "execution_count": null,
      "outputs": []
    },
    {
      "cell_type": "code",
      "source": [
        "# to suppress warnings\n",
        "warnings.filterwarnings('ignore')\n",
        "\n",
        "# imports the Augmented Dickey-Fuller Test for establishing the order of integration of\n",
        "# time series\n",
        "from statsmodels.tsa.stattools import adfuller\n",
        "\n",
        "# performs ADF tests with no constant, a constant, and a constant plus linear trend on\n",
        "# NFLX closing share prices\n",
        "for i in ['n', 'c', 'ct']:\n",
        "    result = adfuller(my_stock_train.close, regression = i)\n",
        "    print('ADF Statistic with %s for Closing my_stock price: %f' % (i, result[0]))\n",
        "    print('p-value: %f' % result[1])\n",
        "    print('')\n",
        "\n",
        "# performs ADF tests with no constant, a constant, and a constant plus linear trend on\n",
        "# differenced NFLX closing share prices\n",
        "for i in ['n', 'c', 'ct']:\n",
        "    result = adfuller(my_stock_train.close.diff().dropna(), regression = i)\n",
        "    print('ADF Statistic with %s for Differenced Closing my_stock price: %f' % (i, result[0]))\n",
        "    print('p-value: %f' % result[1])\n",
        "    print('')"
      ],
      "metadata": {
        "id": "QFrwZuqs3fbs"
      },
      "execution_count": null,
      "outputs": []
    },
    {
      "cell_type": "code",
      "source": [
        "# to suppress warnings\n",
        "import warnings\n",
        "warnings.filterwarnings('ignore')\n",
        "\n",
        "# imports the ARIMA model (Auto Regressive Integrated Moving Average model)\n",
        "from statsmodels.tsa.arima.model import ARIMA\n",
        "\n",
        "# fits the ARIMA model\n",
        "# order in the format AutoRegressive, Integrated, Moving Average\n",
        "my_stock_arima = ARIMA(np.log(my_stock_train.astype(float)), order=(1, 1, 1))\n",
        "my_stock_arima_fit = my_stock_arima.fit()\n",
        "print(my_stock_arima_fit.summary())\n",
        "\n",
        "# sets the plot size to 12x8\n",
        "mpl.rcParams['figure.figsize'] = (12, 8)\n",
        "\n",
        "# plot residual errors of the training data\n",
        "residuals = pd.DataFrame(my_stock_arima_fit.resid)\n",
        "residuals.plot()\n",
        "plt.show()\n",
        "residuals.plot(kind='kde')\n",
        "plt.show()\n",
        "print(residuals.describe())"
      ],
      "metadata": {
        "id": "WJAWABwf3rsa"
      },
      "execution_count": null,
      "outputs": []
    },
    {
      "cell_type": "code",
      "source": [
        "# to suppress warnings\n",
        "warnings.filterwarnings('ignore')\n",
        "\n",
        "# imports the mean squared error function\n",
        "from sklearn.metrics import mean_squared_error\n",
        "\n",
        "# from https://machinelearningmastery.com/arima-for-time-series-forecasting-with-python/\n",
        "\n",
        "# creates a new dataframe that will be added to as the forecast rolls\n",
        "history = np.log(my_stock_train.astype(float))\n",
        "# creates an empty list that will hold predictions\n",
        "predictions = []\n",
        "# loops through the indexes of the set being forecased\n",
        "for i in range(len(my_stock_resid_distr_fitting)):\n",
        "    # estimates an ARIMA model of order (1,1,1)\n",
        "    model = ARIMA(history, order = (1,1,1))\n",
        "    # fits the model\n",
        "    model_fit = model.fit()\n",
        "    # forecasts the next period\n",
        "    output = model_fit.forecast()\n",
        "    # takes the predicted value and saves it in yhat\n",
        "    yhat = np.e ** output[output.index[0]]\n",
        "    # appends yhat to the list of predictions\n",
        "    predictions.append(yhat)\n",
        "    # grabs the observation at the ith index\n",
        "    obs = my_stock_resid_distr_fitting[i : i + 1]\n",
        "    # appends the observation to the estimation data set\n",
        "    history = history.append(np.log(obs.astype(float)))\n",
        "\n",
        "# prints the MSE of the model for the rolling forecast period\n",
        "error = mean_squared_error(my_stock_resid_distr_fitting, predictions)\n",
        "print('Test MSE: %.3f' % error)\n",
        "\n",
        "# converts the predictions list to a pandas dataframe with the same index as the actual values\n",
        "# for plotting purposes\n",
        "predictions = pd.DataFrame(predictions)\n",
        "predictions.index = my_stock_resid_distr_fitting.index\n",
        "\n",
        "# sets the plot size to 12x8\n",
        "mpl.rcParams['figure.figsize'] = (12,8)\n",
        "\n",
        "# plots the predicted and actual stock prices\n",
        "plt.plot(my_stock_resid_distr_fitting)\n",
        "plt.plot(predictions, color = 'red')\n",
        "plt.xlabel('Date')\n",
        "plt.ylabel('Dollars')\n",
        "plt.title('Predicted vs. Actual Closing Weekly Stock Price')\n",
        "plt.legend(['my_stock_resid_distr_fitting', 'predictions'])\n",
        "plt.show()"
      ],
      "metadata": {
        "id": "8rjJrj0c6BST"
      },
      "execution_count": null,
      "outputs": []
    },
    {
      "cell_type": "code",
      "source": [
        "# to suppress warnings\n",
        "warnings.filterwarnings('ignore')\n",
        "\n",
        "# sets the plot size to 12x8\n",
        "mpl.rcParams['figure.figsize'] = (12,8)\n",
        "\n",
        "# plots the residuals\n",
        "tune_residuals = my_stock_resid_distr_fitting.close - predictions[0]\n",
        "tune_residuals.plot(kind = 'kde')"
      ],
      "metadata": {
        "id": "Ky0_iodJ7SRy"
      },
      "execution_count": null,
      "outputs": []
    },
    {
      "cell_type": "code",
      "source": [
        "# to suppress warnings\n",
        "warnings.filterwarnings('ignore')\n",
        "\n",
        "# produces a summary of the residuals\n",
        "tune_residuals.astype(float).describe()"
      ],
      "metadata": {
        "id": "K5AS5KeBEfhn"
      },
      "execution_count": null,
      "outputs": []
    },
    {
      "cell_type": "code",
      "source": [
        "!pip install fitter"
      ],
      "metadata": {
        "id": "k3tFRbrmElA6"
      },
      "execution_count": null,
      "outputs": []
    },
    {
      "cell_type": "code",
      "source": [
        "# to suppress warnings\n",
        "warnings.filterwarnings('ignore')\n",
        "\n",
        "# imports the fitter function and produces estimated fits for our residuals\n",
        "from fitter import Fitter\n",
        "\n",
        "f = Fitter(tune_residuals)\n",
        "f.fit()\n",
        "f.summary"
      ],
      "metadata": {
        "id": "UXYLXotnEo2Y"
      },
      "execution_count": null,
      "outputs": []
    },
    {
      "cell_type": "code",
      "source": [
        "# creates a function to do MC simulation with a Laplacian distribution\n",
        "def laplace_monte_carlo(mean, residuals, n_sims):\n",
        "    # gets the estimated beta or mean absolute distance from the mean\n",
        "    beta = (sum(abs(residuals - np.mean(residuals)))\n",
        "                           / len(residuals))\n",
        "    # uses the numpy function to generate an array of simulated values\n",
        "    est_range = np.random.laplace(mean, beta, n_sims)\n",
        "    # converts the array to a list\n",
        "    est_range = list(est_range)\n",
        "    # returns the simulated values\n",
        "    return(est_range)\n",
        "\n",
        "def roll_forecast_nmc(train, test, std_dev, n_sims):\n",
        "    # creates a new dataframe that will be added to as the forecast rolls\n",
        "    history = np.log(train.astype(float))\n",
        "    # creates an empty list that will hold predictions\n",
        "    predictions = []\n",
        "    # loops through the indexes of the set being forecased\n",
        "    for i in range(len(test)):\n",
        "        # estimates an ARIMA model of order (1,1,0)\n",
        "        model = ARIMA(history, order = (1,1,1))\n",
        "        # fits the model\n",
        "        model_fit = model.fit()\n",
        "        # forecasts the next period\n",
        "        output = model_fit.forecast()\n",
        "        # takes the predicted value and saves it in yhat\n",
        "        yhat = np.e ** output[output.index[0]]\n",
        "        # performs monte carlo simulation using the predicted price as the mean, user-specified\n",
        "        # standard deviation, and number of simulations\n",
        "        yhat_range = laplace_monte_carlo(yhat, std_dev, n_sims)\n",
        "        # appends yhat_range to the list of predictions\n",
        "        predictions.append([float(i) for i in yhat_range])\n",
        "        # grabs the observation at the ith index\n",
        "        obs = test[i : i + 1]\n",
        "        # appends the observation to the estimation data set\n",
        "        history = history.append(np.log(obs.astype(float)))\n",
        "\n",
        "    # converts the predictions list to a pandas dataframe with the same index as the actual\n",
        "    # values for plotting purposes\n",
        "    predictions = pd.DataFrame(predictions)\n",
        "    predictions.index = my_stock_resid_distr_fitting.index\n",
        "    # converts all the estimated yhats in each column to one list per row\n",
        "    predictions['predicted_range'] = predictions.values.tolist()\n",
        "    # grabs only the column with all values in a list\n",
        "    predictions = pd.DataFrame(predictions['predicted_range'])\n",
        "\n",
        "    # returns predictions\n",
        "    return(predictions)"
      ],
      "metadata": {
        "id": "1bSWgjk2E2HI"
      },
      "execution_count": null,
      "outputs": []
    },
    {
      "cell_type": "code",
      "source": [
        "# attaches the data withheld for investigating the forecast residuals back to the training\n",
        "# data set to avoid a large error on the first forecast\n",
        "my_stock_train = my_stock_train.append(my_stock_resid_distr_fitting)\n",
        "\n",
        "\n",
        "# produces a rolling forecast with prediction intervals using 1000 MC sims\n",
        "test_preds = roll_forecast_nmc(my_stock_train,\n",
        "                               my_stock_test,\n",
        "                               tune_residuals,\n",
        "                              1000)"
      ],
      "metadata": {
        "id": "2SBa6CicFkVN"
      },
      "execution_count": null,
      "outputs": []
    },
    {
      "cell_type": "code",
      "source": [
        "# creates an empty list\n",
        "in_prediction_interval = []\n",
        "# loops through the rows in the testing data set\n",
        "for i in range(len(my_stock_test)):\n",
        "    # appends true if the actual price is in the interval of predicted prices and false\n",
        "    # otherwise\n",
        "    in_prediction_interval.append(np.where(min(test_preds.predicted_range[i]) <=\n",
        "                                           my_stock_test.close[i]\n",
        "                                          <= max(test_preds.predicted_range[i]),\n",
        "                                           True, False))\n",
        "# prints the percentage of actual prices in the prediction intervals\n",
        "print('Percentage of Actual Stock Prices in Predicted Stock Price Range: %f' %\n",
        "      (100 * sum(in_prediction_interval) / len(in_prediction_interval)))"
      ],
      "metadata": {
        "id": "e8dhV5rAFnw4"
      },
      "execution_count": null,
      "outputs": []
    },
    {
      "cell_type": "code",
      "source": [
        "# creates empty lists to append to with minimum and maximum values for each weeks prediction\n",
        "min_range = []\n",
        "max_range = []\n",
        "\n",
        "# loops through the rows in test_preds\n",
        "for i in range(len(test_preds)):\n",
        "    # appends to the list the min or max value as appropriate\n",
        "    min_range.append(min(test_preds.predicted_range[i]))\n",
        "    max_range.append(max(test_preds.predicted_range[i]))\n",
        "\n",
        "# converts the lists to data frames and makes their indexes match up with the dates they're\n",
        "# predicting\n",
        "min_range = pd.DataFrame(min_range)\n",
        "min_range.index = my_stock_test.index\n",
        "max_range = pd.DataFrame(max_range)\n",
        "max_range.index = my_stock_test.index\n",
        "\n",
        "# plots the actual stock price with prediction intervals\n",
        "plt.plot(my_stock_test)\n",
        "plt.plot(min_range, color = 'yellow')\n",
        "plt.plot(max_range, color = 'red')\n",
        "plt.xlabel('Date')\n",
        "plt.ylabel('Dollars')\n",
        "plt.title('Actual Closing Weekly Stock Price with Prediction Intervals')\n",
        "plt.legend(['my_stock_test', 'min_range', 'max_range'])\n",
        "plt.show()"
      ],
      "metadata": {
        "id": "XaUH0DCXJ_Nu"
      },
      "execution_count": null,
      "outputs": []
    },
    {
      "cell_type": "code",
      "source": [
        "# sets a target price to see the probability that the actual stock price is greater than or\n",
        "# equal to this target\n",
        "target_price = 260\n",
        "# creates a list of True values where the simulated price is above or equal to the target price\n",
        "# and False where it is below\n",
        "above_target = [i >= target_price for i in test_preds.predicted_range[len(test_preds) - 1]]\n",
        "# prints the probability\n",
        "print('Probability Actual Stock Price is above Strike Price: %f' %\n",
        "      (sum(above_target) / len(above_target)))"
      ],
      "metadata": {
        "id": "51ljjyfuPrUO"
      },
      "execution_count": null,
      "outputs": []
    },
    {
      "cell_type": "code",
      "source": [],
      "metadata": {
        "id": "96a76OpwRm_n"
      },
      "execution_count": null,
      "outputs": []
    }
  ]
}